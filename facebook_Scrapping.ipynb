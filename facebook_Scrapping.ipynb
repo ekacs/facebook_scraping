{
  "cells": [
    {
      "cell_type": "markdown",
      "metadata": {
        "id": "view-in-github",
        "colab_type": "text"
      },
      "source": [
        "<a href=\"https://colab.research.google.com/github/ekacs/facebook_scraping/blob/main/facebook_Scrapping.ipynb\" target=\"_parent\"><img src=\"https://colab.research.google.com/assets/colab-badge.svg\" alt=\"Open In Colab\"/></a>"
      ]
    },
    {
      "cell_type": "markdown",
      "metadata": {
        "id": "CqldEYA2kKWF"
      },
      "source": [
        "# 0. Author notes"
      ]
    },
    {
      "cell_type": "markdown",
      "metadata": {
        "id": "Cz_Un1uLkKWI"
      },
      "source": [
        "referensi:\n",
        "https://pypi.org/project/facebook-scraper/ (by kevinzg)\n",
        "\n",
        "https://github.com/LAITRUNGMINHDUC(by: me@henryduc.codes)\n",
        "\n",
        "syarat mutlak:\n",
        "1. harus tahu user akun target\n",
        "2. akun target harus terbuka atau telah menjadikan kita sebagai teman sehingga dibukanya\n",
        "3. harus punya akun FB meski fake, untuk bahan cookies dari FB kita\n",
        "4. kecepatan bergantung dari internet\n",
        "5. apabila diperlukan perlu VPN jika internetnya utk sosmed FB diblok\n",
        "\n",
        "JANGAN LUPA SUSBCRIBE CHANNEL KITA YA :b \n",
        "@auditorzamannow8300\n",
        "https://www.youtube.com/channel/UC2Jvlgvg6bwGFw-CW-IP_xw"
      ]
    },
    {
      "cell_type": "markdown",
      "metadata": {
        "id": "J8_P1VghkKWJ"
      },
      "source": [
        "# 1. Install Library"
      ]
    },
    {
      "cell_type": "code",
      "execution_count": null,
      "metadata": {
        "id": "TEkUSyGsDC14"
      },
      "outputs": [],
      "source": [
        "%pip install facebook_scraper"
      ]
    },
    {
      "cell_type": "markdown",
      "metadata": {
        "id": "W_koBEmfkKWK"
      },
      "source": [
        "# 2. Mapping Google Drive folder"
      ]
    },
    {
      "cell_type": "code",
      "execution_count": null,
      "metadata": {
        "colab": {
          "base_uri": "https://localhost:8080/"
        },
        "id": "WUwr7vDGDLv1",
        "outputId": "e2114551-abad-4970-f6ac-16ffee14074b"
      },
      "outputs": [
        {
          "output_type": "stream",
          "name": "stdout",
          "text": [
            "Drive already mounted at /content/drive; to attempt to forcibly remount, call drive.mount(\"/content/drive\", force_remount=True).\n"
          ]
        }
      ],
      "source": [
        "from google.colab import drive\n",
        "drive.mount(\"/content/drive\")"
      ]
    },
    {
      "cell_type": "markdown",
      "metadata": {
        "id": "Y2mx0GlzkKWL"
      },
      "source": [
        "# 3. Define WebPage & Storage Link"
      ]
    },
    {
      "cell_type": "code",
      "execution_count": null,
      "metadata": {
        "id": "Gqfpmr97DIJV"
      },
      "outputs": [],
      "source": [
        "FANPAGE_LINK =\"..................\" #tatrget auditi\n",
        "FOLDER_PATH = \"/content/drive/MyDrive/...........................\" #letak direktori simpan hasil kita\n",
        "COOKIE_PATH = \"/content/drive/MyDrive/....................\" #letak file cookies bentuk JSON tapi dibuat ekstensinya txt\n",
        "\n",
        "PAGES_NUMBER = 1000 # Posts-per-page = 4 => multiply"
      ]
    },
    {
      "cell_type": "markdown",
      "metadata": {
        "id": "FObUr_qqkKWM"
      },
      "source": [
        "# 4. Source Ready To Run"
      ]
    },
    {
      "cell_type": "code",
      "execution_count": null,
      "metadata": {
        "id": "vYmaq7YQDJ2t"
      },
      "outputs": [],
      "source": [
        "from facebook_scraper import get_posts\n",
        "import pandas as pd"
      ]
    },
    {
      "cell_type": "markdown",
      "metadata": {
        "id": "MrjId3pukKWM"
      },
      "source": [
        "### Crawling Start ###"
      ]
    },
    {
      "cell_type": "code",
      "execution_count": null,
      "metadata": {
        "id": "DdrehHenDKyq"
      },
      "outputs": [],
      "source": [
        "post_list = []\n",
        "for post in get_posts(FANPAGE_LINK, \n",
        "                    options={\"comments\": True, \"reactions\": True, \"allow_extra_requests\": True}, \n",
        "                    extra_info=True, pages=1000, cookies=COOKIE_PATH):\n",
        "    post_list.append(post)"
      ]
    },
    {
      "cell_type": "markdown",
      "metadata": {
        "id": "_xIQgpujkKWN"
      },
      "source": [
        "### Post-processing & Output generate "
      ]
    },
    {
      "cell_type": "code",
      "execution_count": null,
      "metadata": {
        "id": "KzwaAiHADsv2"
      },
      "outputs": [],
      "source": [
        "fields_list = ['post_id', 'text', 'time', 'images', 'images_description', 'likes', 'comments', 'shares', 'post_url', 'link', 'username']\n",
        "result_list = []\n",
        "for post in post_list:\n",
        "    my_obj = {}\n",
        "    for field in fields_list:\n",
        "        my_obj[field] = post[field]\n",
        "    ## Manipulate Comments\n",
        "    if len(post['comments_full']) > 0:\n",
        "        my_obj['comments_content'] = '\\n'.join([comment['comment_text'] for comment in post['comments_full']])\n",
        "        my_obj['comments_time'] = '\\n'.join([comment['comment_time'].strftime(\"%Y-%m-%d-%H:%M:%S\") for comment in post['comments_full']])\n",
        "    \n",
        "    result_list.append(my_obj)"
      ]
    },
    {
      "cell_type": "markdown",
      "metadata": {
        "id": "Eld-4me1kKWO"
      },
      "source": [
        "### 😎 Write it to CSV: <PAGE_NAME>.csv"
      ]
    },
    {
      "cell_type": "code",
      "execution_count": null,
      "metadata": {
        "id": "B01vey7aDw3B"
      },
      "outputs": [],
      "source": [
        "df = pd.DataFrame(result_list)\n",
        "df.to_csv(FOLDER_PATH + FANPAGE_LINK + \".csv\", index=False)"
      ]
    },
    {
      "cell_type": "markdown",
      "metadata": {
        "id": "2_IkyY1OzGmU"
      },
      "source": [
        "### 😎 Write it to excel: <PAGE_NAME>.xlsx"
      ]
    },
    {
      "cell_type": "code",
      "source": [
        "df = pd.DataFrame(result_list)\n",
        "df.to_excel(FOLDER_PATH + FANPAGE_LINK + \".xlsx\", index=False)"
      ],
      "metadata": {
        "id": "lhZSZnkdq9dQ"
      },
      "execution_count": null,
      "outputs": []
    }
  ],
  "metadata": {
    "colab": {
      "provenance": [],
      "include_colab_link": true
    },
    "kernelspec": {
      "display_name": "Python 3",
      "name": "python3"
    },
    "language_info": {
      "name": "python"
    }
  },
  "nbformat": 4,
  "nbformat_minor": 0
}